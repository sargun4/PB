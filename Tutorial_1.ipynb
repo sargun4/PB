{
  "cells": [
    {
      "cell_type": "markdown",
      "metadata": {
        "id": "LpFT85us_TTy"
      },
      "source": [
        "Installing biopython"
      ]
    },
    {
      "cell_type": "code",
      "execution_count": 1,
      "metadata": {
        "colab": {
          "base_uri": "https://localhost:8080/"
        },
        "id": "eQ2n5UNAZz33",
        "outputId": "dd040345-0c75-4940-fb0e-82bbed684ff1"
      },
      "outputs": [
        {
          "name": "stdout",
          "output_type": "stream",
          "text": [
            "Collecting biopython\n",
            "  Obtaining dependency information for biopython from https://files.pythonhosted.org/packages/b8/c8/18570a63e8b6fe99a856698d500fb326f0ce247d2b70d8d631d4abcb5c9c/biopython-1.83-cp311-cp311-win_amd64.whl.metadata\n",
            "  Downloading biopython-1.83-cp311-cp311-win_amd64.whl.metadata (13 kB)\n",
            "Requirement already satisfied: numpy in c:\\users\\dell\\anaconda3\\lib\\site-packages (from biopython) (1.24.3)\n",
            "Downloading biopython-1.83-cp311-cp311-win_amd64.whl (2.7 MB)\n",
            "   ---------------------------------------- 0.0/2.7 MB ? eta -:--:--\n",
            "   - -------------------------------------- 0.1/2.7 MB 3.3 MB/s eta 0:00:01\n",
            "   --- ------------------------------------ 0.2/2.7 MB 3.8 MB/s eta 0:00:01\n",
            "   ------ --------------------------------- 0.5/2.7 MB 3.6 MB/s eta 0:00:01\n",
            "   -------- ------------------------------- 0.6/2.7 MB 3.3 MB/s eta 0:00:01\n",
            "   ----------- ---------------------------- 0.8/2.7 MB 3.4 MB/s eta 0:00:01\n",
            "   ----------- ---------------------------- 0.8/2.7 MB 3.2 MB/s eta 0:00:01\n",
            "   ------------- -------------------------- 0.9/2.7 MB 3.1 MB/s eta 0:00:01\n",
            "   ---------------- ----------------------- 1.1/2.7 MB 3.1 MB/s eta 0:00:01\n",
            "   ------------------ --------------------- 1.2/2.7 MB 3.1 MB/s eta 0:00:01\n",
            "   ------------------- -------------------- 1.4/2.7 MB 3.0 MB/s eta 0:00:01\n",
            "   --------------------- ------------------ 1.5/2.7 MB 3.0 MB/s eta 0:00:01\n",
            "   ------------------------ --------------- 1.7/2.7 MB 3.0 MB/s eta 0:00:01\n",
            "   -------------------------- ------------- 1.8/2.7 MB 3.0 MB/s eta 0:00:01\n",
            "   ---------------------------- ----------- 1.9/2.7 MB 3.0 MB/s eta 0:00:01\n",
            "   ------------------------------ --------- 2.1/2.7 MB 3.0 MB/s eta 0:00:01\n",
            "   --------------------------------- ------ 2.3/2.7 MB 3.0 MB/s eta 0:00:01\n",
            "   ------------------------------------ --- 2.5/2.7 MB 3.0 MB/s eta 0:00:01\n",
            "   ---------------------------------------  2.7/2.7 MB 3.1 MB/s eta 0:00:01\n",
            "   ---------------------------------------- 2.7/2.7 MB 3.1 MB/s eta 0:00:00\n",
            "Installing collected packages: biopython\n",
            "Successfully installed biopython-1.83\n",
            "Note: you may need to restart the kernel to use updated packages.\n"
          ]
        }
      ],
      "source": [
        "pip install biopython"
      ]
    },
    {
      "cell_type": "markdown",
      "metadata": {
        "id": "OdDMeoSLCHVH"
      },
      "source": [
        "After installing import the Bio and get to know the version of the Bio"
      ]
    },
    {
      "cell_type": "code",
      "execution_count": 2,
      "metadata": {
        "colab": {
          "base_uri": "https://localhost:8080/"
        },
        "id": "bWd4j9osCPsz",
        "outputId": "7fa9892f-fa48-4de5-d0d4-5f1ed658f8a6"
      },
      "outputs": [
        {
          "name": "stdout",
          "output_type": "stream",
          "text": [
            "1.83\n"
          ]
        }
      ],
      "source": [
        "import Bio\n",
        "print(Bio.__version__)"
      ]
    },
    {
      "cell_type": "markdown",
      "metadata": {
        "id": "su4exeRd_lHB"
      },
      "source": [
        "Import Entrez and access the NCBI through any mail id(preferebly yours)"
      ]
    },
    {
      "cell_type": "code",
      "execution_count": 3,
      "metadata": {
        "id": "6zvHFBIrqIHo"
      },
      "outputs": [],
      "source": [
        "from Bio import Entrez\n",
        "Entrez.email = \"varshar@iiitd.ac.in\"\n",
        "handle = Entrez.einfo()\n",
        "record = Entrez.read(handle)"
      ]
    },
    {
      "cell_type": "code",
      "execution_count": 4,
      "metadata": {
        "colab": {
          "base_uri": "https://localhost:8080/"
        },
        "id": "ru6WJiBOqaiV",
        "outputId": "883dd891-2a05-4cd4-9492-6f1bfce6c6f5"
      },
      "outputs": [
        {
          "data": {
            "text/plain": [
              "dict_keys(['DbList'])"
            ]
          },
          "execution_count": 4,
          "metadata": {},
          "output_type": "execute_result"
        }
      ],
      "source": [
        "record.keys()"
      ]
    },
    {
      "cell_type": "markdown",
      "metadata": {
        "id": "Cypy9qE9AqQ4"
      },
      "source": [
        "Accessing the desired data set from the DbList"
      ]
    },
    {
      "cell_type": "code",
      "execution_count": 5,
      "metadata": {
        "colab": {
          "base_uri": "https://localhost:8080/"
        },
        "id": "FuvQmrCpqg6T",
        "outputId": "4ff7ae07-30ab-48e8-a537-5a004264076a"
      },
      "outputs": [
        {
          "data": {
            "text/plain": [
              "['pubmed', 'protein', 'nuccore', 'ipg', 'nucleotide', 'structure', 'genome', 'annotinfo', 'assembly', 'bioproject', 'biosample', 'blastdbinfo', 'books', 'cdd', 'clinvar', 'gap', 'gapplus', 'grasp', 'dbvar', 'gene', 'gds', 'geoprofiles', 'homologene', 'medgen', 'mesh', 'nlmcatalog', 'omim', 'orgtrack', 'pmc', 'popset', 'proteinclusters', 'pcassay', 'protfam', 'pccompound', 'pcsubstance', 'seqannot', 'snp', 'sra', 'taxonomy', 'biocollections', 'gtr']"
            ]
          },
          "execution_count": 5,
          "metadata": {},
          "output_type": "execute_result"
        }
      ],
      "source": [
        "record['DbList']"
      ]
    },
    {
      "cell_type": "markdown",
      "metadata": {
        "id": "yzTph4AhAgyR"
      },
      "source": [
        "Finding how many articles are there with drugs and artificial intelligence"
      ]
    },
    {
      "cell_type": "code",
      "execution_count": 6,
      "metadata": {
        "colab": {
          "base_uri": "https://localhost:8080/",
          "height": 35
        },
        "id": "mMG4sab7qksv",
        "outputId": "408729a4-5564-41e6-ceff-52db47a39e1e"
      },
      "outputs": [
        {
          "data": {
            "text/plain": [
              "'1375'"
            ]
          },
          "execution_count": 6,
          "metadata": {},
          "output_type": "execute_result"
        }
      ],
      "source": [
        "handle = Entrez.esearch(db=\"pubmed\", term = \"(drugs[Text Word]) AND (artificial intelligence[Text Word])\")\n",
        "record = Entrez.read(handle)\n",
        "record[\"Count\"]"
      ]
    },
    {
      "cell_type": "markdown",
      "metadata": {
        "id": "2ngnarx0CZsw"
      },
      "source": [
        "Before downloading the actual sequences from the NCBI, a small program of how python is taking sequence as strings."
      ]
    },
    {
      "cell_type": "code",
      "execution_count": 7,
      "metadata": {
        "colab": {
          "base_uri": "https://localhost:8080/"
        },
        "id": "hHKJPG8sr3gE",
        "outputId": "66dd2755-7e9f-4479-9576-d7a97e0d46bc"
      },
      "outputs": [
        {
          "data": {
            "text/plain": [
              "Seq('AGTCTAGGGAAAGTCATTCAGT')"
            ]
          },
          "execution_count": 7,
          "metadata": {},
          "output_type": "execute_result"
        }
      ],
      "source": [
        "from Bio.Seq import Seq\n",
        "my_seq = Seq(\"AGTCTAGGGAAAGTCATTCAGT\")\n",
        "my_seq"
      ]
    },
    {
      "cell_type": "markdown",
      "metadata": {
        "id": "HEUF8EZEC78r"
      },
      "source": [
        " Further using SeqIO object how it is taking as DNA sequence.\n"
      ]
    },
    {
      "cell_type": "code",
      "execution_count": 8,
      "metadata": {
        "colab": {
          "base_uri": "https://localhost:8080/"
        },
        "id": "8iUYTUb-C_RX",
        "outputId": "256c3c29-3df2-43cd-9049-5d4a5c5f054b"
      },
      "outputs": [
        {
          "name": "stdout",
          "output_type": "stream",
          "text": [
            "AGTCTAGGGAAAGTCATTCAGT\n"
          ]
        }
      ],
      "source": [
        "print(my_seq)"
      ]
    },
    {
      "cell_type": "markdown",
      "metadata": {
        "id": "HrfVQWCYDFbw"
      },
      "source": [
        "Complementation of DNA sequence"
      ]
    },
    {
      "cell_type": "code",
      "execution_count": 9,
      "metadata": {
        "colab": {
          "base_uri": "https://localhost:8080/"
        },
        "id": "DgkagfbqDCKv",
        "outputId": "f192a71c-8124-4cfa-814c-0cb417a55366"
      },
      "outputs": [
        {
          "data": {
            "text/plain": [
              "Seq('TCAGATCCCTTTCAGTAAGTCA')"
            ]
          },
          "execution_count": 9,
          "metadata": {},
          "output_type": "execute_result"
        }
      ],
      "source": [
        "my_seq.complement()"
      ]
    },
    {
      "cell_type": "markdown",
      "metadata": {
        "id": "LwB5IA2WDNJn"
      },
      "source": [
        "Upload the fasta file that we downloaded from NCBI #If using Google collab"
      ]
    },
    {
      "cell_type": "code",
      "execution_count": 10,
      "metadata": {
        "colab": {
          "base_uri": "https://localhost:8080/",
          "height": 73
        },
        "id": "Hf7mZ4E8Ffp-",
        "outputId": "54a25d2b-4569-4796-83fb-5241b857c496"
      },
      "outputs": [
        {
          "ename": "ModuleNotFoundError",
          "evalue": "No module named 'google'",
          "output_type": "error",
          "traceback": [
            "\u001b[1;31m---------------------------------------------------------------------------\u001b[0m",
            "\u001b[1;31mModuleNotFoundError\u001b[0m                       Traceback (most recent call last)",
            "Cell \u001b[1;32mIn[10], line 1\u001b[0m\n\u001b[1;32m----> 1\u001b[0m \u001b[38;5;28;01mfrom\u001b[39;00m \u001b[38;5;21;01mgoogle\u001b[39;00m\u001b[38;5;21;01m.\u001b[39;00m\u001b[38;5;21;01mcolab\u001b[39;00m \u001b[38;5;28;01mimport\u001b[39;00m files\n\u001b[0;32m      2\u001b[0m \u001b[38;5;66;03m# Upload the \"ACE2.fasta\" file\u001b[39;00m\n\u001b[0;32m      3\u001b[0m uploaded \u001b[38;5;241m=\u001b[39m files\u001b[38;5;241m.\u001b[39mupload()\n",
            "\u001b[1;31mModuleNotFoundError\u001b[0m: No module named 'google'"
          ]
        }
      ],
      "source": [
        "from google.colab import files\n",
        "# Upload the \"ACE2.fasta\" file\n",
        "uploaded = files.upload()"
      ]
    },
    {
      "cell_type": "markdown",
      "metadata": {},
      "source": [
        "If VS code or any other platform for running jupyter notebook then use the following code to upload fasta file"
      ]
    },
    {
      "cell_type": "code",
      "execution_count": null,
      "metadata": {},
      "outputs": [],
      "source": [
        "file_path = \"D:\\PhD\\TA_ship\\Tutorials\\Tutorial-1\\ACE2.fasta\" #give your path of your system"
      ]
    },
    {
      "cell_type": "markdown",
      "metadata": {
        "id": "p2Hr2l8pGm-m"
      },
      "source": [
        "The primary information of the sequences that we download."
      ]
    },
    {
      "cell_type": "code",
      "execution_count": null,
      "metadata": {
        "colab": {
          "base_uri": "https://localhost:8080/"
        },
        "id": "lWpOH-woDUIA",
        "outputId": "d1d1c59e-c2df-4a1b-d365-1ea365b49998"
      },
      "outputs": [
        {
          "name": "stdout",
          "output_type": "stream",
          "text": [
            "NG_012575.3:11251-51178\n",
            "Seq('AGTCTAGGGAAAGTCATTCAGTGGATGTGATCTTGGCTCACAGGGGACGATGTC...CTC')\n"
          ]
        }
      ],
      "source": [
        "from Bio import SeqIO\n",
        "for seq_record in SeqIO.parse(\"ACE2.fasta\", \"fasta\"):\n",
        "    print(seq_record.id)\n",
        "    print(repr(seq_record.seq))"
      ]
    },
    {
      "cell_type": "code",
      "execution_count": null,
      "metadata": {},
      "outputs": [],
      "source": [
        "file_path1 = \"D:\\PhD\\TA_ship\\Tutorials\\Tutorial-1\\ACE2.gb\" ##give your path of your system"
      ]
    },
    {
      "cell_type": "markdown",
      "metadata": {
        "id": "vRkNle4eG5jN"
      },
      "source": [
        "Lets work on Genbank format"
      ]
    },
    {
      "cell_type": "code",
      "execution_count": null,
      "metadata": {
        "colab": {
          "base_uri": "https://localhost:8080/",
          "height": 73
        },
        "id": "LwIY6qnKG-Xm",
        "outputId": "0e8af0df-e40a-4e0e-f74a-f5e6a04280c9"
      },
      "outputs": [],
      "source": [
        "from google.colab import files  #If google collab is used\n",
        "# Upload the \"ACE2.gb\" file\n",
        "uploaded = files.upload()"
      ]
    },
    {
      "cell_type": "code",
      "execution_count": null,
      "metadata": {
        "colab": {
          "base_uri": "https://localhost:8080/"
        },
        "id": "B20k_lEMHFgU",
        "outputId": "0aa118e5-f7d0-4582-bba3-1e6edbf1ce9d"
      },
      "outputs": [
        {
          "name": "stdout",
          "output_type": "stream",
          "text": [
            "NG_012575.3\n",
            "Seq('AGTCTAGGGAAAGTCATTCAGTGGATGTGATCTTGGCTCACAGGGGACGATGTC...CTC')\n"
          ]
        }
      ],
      "source": [
        "from Bio import SeqIO\n",
        "for seq_record in SeqIO.parse(\"ACE2.gb\", \"genbank\"):\n",
        "    print(seq_record.id)\n",
        "    print(repr(seq_record.seq))"
      ]
    }
  ],
  "metadata": {
    "colab": {
      "provenance": []
    },
    "kernelspec": {
      "display_name": "Python 3",
      "name": "python3"
    },
    "language_info": {
      "codemirror_mode": {
        "name": "ipython",
        "version": 3
      },
      "file_extension": ".py",
      "mimetype": "text/x-python",
      "name": "python",
      "nbconvert_exporter": "python",
      "pygments_lexer": "ipython3",
      "version": "3.11.5"
    }
  },
  "nbformat": 4,
  "nbformat_minor": 0
}
