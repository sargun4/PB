{
  "cells": [
    {
      "cell_type": "markdown",
      "metadata": {
        "id": "LpFT85us_TTy"
      },
      "source": [
        "Installing biopython"
      ]
    },
    {
      "cell_type": "code",
      "execution_count": 25,
      "metadata": {
        "colab": {
          "base_uri": "https://localhost:8080/"
        },
        "id": "eQ2n5UNAZz33",
        "outputId": "dd040345-0c75-4940-fb0e-82bbed684ff1"
      },
      "outputs": [
        {
          "name": "stdout",
          "output_type": "stream",
          "text": [
            "Requirement already satisfied: biopython in c:\\users\\dell\\anaconda3\\lib\\site-packages (1.83)\n",
            "Requirement already satisfied: numpy in c:\\users\\dell\\anaconda3\\lib\\site-packages (from biopython) (1.24.3)\n",
            "Note: you may need to restart the kernel to use updated packages.\n"
          ]
        }
      ],
      "source": [
        "# pip install biopython"
      ]
    },
    {
      "cell_type": "markdown",
      "metadata": {
        "id": "OdDMeoSLCHVH"
      },
      "source": [
        "After installing import the Bio and get to know the version of the Bio"
      ]
    },
    {
      "cell_type": "code",
      "execution_count": 26,
      "metadata": {
        "colab": {
          "base_uri": "https://localhost:8080/"
        },
        "id": "bWd4j9osCPsz",
        "outputId": "7fa9892f-fa48-4de5-d0d4-5f1ed658f8a6"
      },
      "outputs": [
        {
          "name": "stdout",
          "output_type": "stream",
          "text": [
            "1.83\n"
          ]
        }
      ],
      "source": [
        "import Bio\n",
        "print(Bio.__version__)"
      ]
    },
    {
      "cell_type": "markdown",
      "metadata": {
        "id": "su4exeRd_lHB"
      },
      "source": [
        "Import Entrez and access the NCBI through any mail id(preferebly yours)"
      ]
    },
    {
      "cell_type": "code",
      "execution_count": 27,
      "metadata": {
        "id": "6zvHFBIrqIHo"
      },
      "outputs": [],
      "source": [
        "from Bio import Entrez\n",
        "Entrez.email = \"varshar@iiitd.ac.in\"\n",
        "handle = Entrez.einfo()\n",
        "record = Entrez.read(handle)"
      ]
    },
    {
      "cell_type": "code",
      "execution_count": 28,
      "metadata": {
        "colab": {
          "base_uri": "https://localhost:8080/"
        },
        "id": "ru6WJiBOqaiV",
        "outputId": "883dd891-2a05-4cd4-9492-6f1bfce6c6f5"
      },
      "outputs": [
        {
          "data": {
            "text/plain": [
              "dict_keys(['DbList'])"
            ]
          },
          "execution_count": 28,
          "metadata": {},
          "output_type": "execute_result"
        }
      ],
      "source": [
        "record.keys()"
      ]
    },
    {
      "cell_type": "markdown",
      "metadata": {
        "id": "Cypy9qE9AqQ4"
      },
      "source": [
        "Accessing the desired data set from the DbList"
      ]
    },
    {
      "cell_type": "code",
      "execution_count": 29,
      "metadata": {
        "colab": {
          "base_uri": "https://localhost:8080/"
        },
        "id": "FuvQmrCpqg6T",
        "outputId": "4ff7ae07-30ab-48e8-a537-5a004264076a"
      },
      "outputs": [
        {
          "data": {
            "text/plain": [
              "['pubmed', 'protein', 'nuccore', 'ipg', 'nucleotide', 'structure', 'genome', 'annotinfo', 'assembly', 'bioproject', 'biosample', 'blastdbinfo', 'books', 'cdd', 'clinvar', 'gap', 'gapplus', 'grasp', 'dbvar', 'gene', 'gds', 'geoprofiles', 'medgen', 'mesh', 'nlmcatalog', 'omim', 'orgtrack', 'pmc', 'popset', 'proteinclusters', 'pcassay', 'protfam', 'pccompound', 'pcsubstance', 'seqannot', 'snp', 'sra', 'taxonomy', 'biocollections', 'gtr']"
            ]
          },
          "execution_count": 29,
          "metadata": {},
          "output_type": "execute_result"
        }
      ],
      "source": [
        "record['DbList']"
      ]
    },
    {
      "cell_type": "markdown",
      "metadata": {
        "id": "yzTph4AhAgyR"
      },
      "source": [
        "Finding how many articles are there with drugs and artificial intelligence"
      ]
    },
    {
      "cell_type": "code",
      "execution_count": 30,
      "metadata": {
        "colab": {
          "base_uri": "https://localhost:8080/",
          "height": 35
        },
        "id": "mMG4sab7qksv",
        "outputId": "408729a4-5564-41e6-ceff-52db47a39e1e"
      },
      "outputs": [
        {
          "data": {
            "text/plain": [
              "'1407'"
            ]
          },
          "execution_count": 30,
          "metadata": {},
          "output_type": "execute_result"
        }
      ],
      "source": [
        "handle = Entrez.esearch(db=\"pubmed\", term = \"(drugs[Text Word]) AND (artificial intelligence[Text Word])\")\n",
        "record = Entrez.read(handle)\n",
        "record[\"Count\"]"
      ]
    },
    {
      "cell_type": "markdown",
      "metadata": {
        "id": "2ngnarx0CZsw"
      },
      "source": [
        "Before downloading the actual sequences from the NCBI, a small program of how python is taking sequence as strings."
      ]
    },
    {
      "cell_type": "code",
      "execution_count": 31,
      "metadata": {
        "colab": {
          "base_uri": "https://localhost:8080/"
        },
        "id": "hHKJPG8sr3gE",
        "outputId": "66dd2755-7e9f-4479-9576-d7a97e0d46bc"
      },
      "outputs": [
        {
          "data": {
            "text/plain": [
              "Seq('AGTCTAGGGAAAGTCATTCAGT')"
            ]
          },
          "execution_count": 31,
          "metadata": {},
          "output_type": "execute_result"
        }
      ],
      "source": [
        "from Bio.Seq import Seq\n",
        "my_seq = Seq(\"AGTCTAGGGAAAGTCATTCAGT\")\n",
        "my_seq"
      ]
    },
    {
      "cell_type": "markdown",
      "metadata": {
        "id": "HEUF8EZEC78r"
      },
      "source": [
        " Further using SeqIO object how it is taking as DNA sequence.\n"
      ]
    },
    {
      "cell_type": "code",
      "execution_count": 32,
      "metadata": {
        "colab": {
          "base_uri": "https://localhost:8080/"
        },
        "id": "8iUYTUb-C_RX",
        "outputId": "256c3c29-3df2-43cd-9049-5d4a5c5f054b"
      },
      "outputs": [
        {
          "name": "stdout",
          "output_type": "stream",
          "text": [
            "AGTCTAGGGAAAGTCATTCAGT\n"
          ]
        }
      ],
      "source": [
        "print(my_seq)"
      ]
    },
    {
      "cell_type": "markdown",
      "metadata": {
        "id": "HrfVQWCYDFbw"
      },
      "source": [
        "Complementation of DNA sequence"
      ]
    },
    {
      "cell_type": "code",
      "execution_count": 33,
      "metadata": {
        "colab": {
          "base_uri": "https://localhost:8080/"
        },
        "id": "DgkagfbqDCKv",
        "outputId": "f192a71c-8124-4cfa-814c-0cb417a55366"
      },
      "outputs": [
        {
          "data": {
            "text/plain": [
              "Seq('TCAGATCCCTTTCAGTAAGTCA')"
            ]
          },
          "execution_count": 33,
          "metadata": {},
          "output_type": "execute_result"
        }
      ],
      "source": [
        "my_seq.complement()"
      ]
    },
    {
      "cell_type": "markdown",
      "metadata": {
        "id": "LwB5IA2WDNJn"
      },
      "source": [
        "Upload the fasta file that we downloaded from NCBI #If using Google collab"
      ]
    },
    {
      "cell_type": "code",
      "execution_count": 34,
      "metadata": {
        "colab": {
          "base_uri": "https://localhost:8080/",
          "height": 73
        },
        "id": "Hf7mZ4E8Ffp-",
        "outputId": "54a25d2b-4569-4796-83fb-5241b857c496"
      },
      "outputs": [],
      "source": [
        "# from google.colab import files\n",
        "# # Upload the \"ACE2.fasta\" file\n",
        "# uploaded = files.upload()"
      ]
    },
    {
      "cell_type": "markdown",
      "metadata": {},
      "source": [
        "If VS code or any other platform for running jupyter notebook then use the following code to upload fasta file"
      ]
    },
    {
      "cell_type": "code",
      "execution_count": 1,
      "metadata": {},
      "outputs": [],
      "source": [
        "file_path = r\"C:\\Users\\Dell\\OneDrive\\Desktop\\PB\\Tutorial_1\\ACE2.fasta\" #give your path of your system"
      ]
    },
    {
      "cell_type": "markdown",
      "metadata": {
        "id": "p2Hr2l8pGm-m"
      },
      "source": [
        "The primary information of the sequences that we download."
      ]
    },
    {
      "cell_type": "code",
      "execution_count": 4,
      "metadata": {
        "colab": {
          "base_uri": "https://localhost:8080/"
        },
        "id": "lWpOH-woDUIA",
        "outputId": "d1d1c59e-c2df-4a1b-d365-1ea365b49998"
      },
      "outputs": [],
      "source": [
        "from Bio import SeqIO\n",
        "for seq_record in SeqIO.parse(\"ACE2.fasta\", \"fasta\"):\n",
        "    print(seq_record.id)\n",
        "    print(repr(seq_record.seq))\n",
        "file_path1 = r\"C:\\Users\\Dell\\OneDrive\\Desktop\\PB\\Tutorial_1\\ACE2.fasta\" ##give your path of your system\n"
      ]
    },
    {
      "cell_type": "code",
      "execution_count": 6,
      "metadata": {},
      "outputs": [],
      "source": [
        "\n",
        "# Lets work on Genbank format\n",
        "# from google.colab import files  #If google collab is used\n",
        "# # Upload the \"ACE2.gb\" file\n",
        "# uploaded = files.upload()\n",
        "\n",
        "from Bio import SeqIO\n",
        "for seq_record in SeqIO.parse(\"ACE2.gb\", \"genbank\"):\n",
        "    print(seq_record.id)\n",
        "    print(repr(seq_record.seq))"
      ]
    }
  ],
  "metadata": {
    "colab": {
      "provenance": []
    },
    "kernelspec": {
      "display_name": "Python 3",
      "name": "python3"
    },
    "language_info": {
      "codemirror_mode": {
        "name": "ipython",
        "version": 3
      },
      "file_extension": ".py",
      "mimetype": "text/x-python",
      "name": "python",
      "nbconvert_exporter": "python",
      "pygments_lexer": "ipython3",
      "version": "3.11.5"
    }
  },
  "nbformat": 4,
  "nbformat_minor": 0
}
