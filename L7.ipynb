{
 "cells": [
  {
   "cell_type": "code",
   "execution_count": null,
   "metadata": {},
   "outputs": [],
   "source": [
    "# https://www.slideshare.net/ammarkareem3/sequence-alignment-58496054\n",
    "# Sequence alignment is a way of arranging protein (or DNA) sequences to identify regions of similarity \n",
    "# that may be a consequence of evolutionary relationships between the sequences."
   ]
  },
  {
   "cell_type": "markdown",
   "metadata": {},
   "source": [
    "| Aspect                | Global Sequence Alignment                                | Local Sequence Alignment                               |\n",
    "|-----------------------|----------------------------------------------------------|----------------------------------------------------------|\n",
    "| **Definition**        | Aligns the entire sequence from end to end.              | finds local regions with high similarity bw target and query subseq   |\n",
    "| **Aim**               | Maximize similarity between entire sequences.            | Identify local regions of high similarity.               |\n",
    "| **Consideration**     | Entire length of both query and target sequences.        | Substring of the query aligns to a substring of the target. |\n",
    "| **Characteristics**   | Contains all letters from both target and query subseq                | Aligns substring of query to substring of target.        |\n",
    "| **Suitability**       | Sequences with similar length and content.               | More suitable for divergent or distantly related sequences. |\n",
    "| **Applications**      | Comparing homologous genes or proteins.                  | Finding conserved patterns in DNA, identifying functional domains. |\n",
    "| **Technique Example** | ***Needleman–Wunsch*** algorithm for global alignment.         | ***Smith-Waterman*** algorithm for local alignment.            |\n",
    "| **Tool Examples**     | EMBOSS Needle, Needleman-Wunsch (Specialized BLAST).     | BLAST, EMBOSS Water, LALIGN.                             |\n",
    "| **Use Case Examples** | Comparing genes or proteins with similar functions.      | Identifying conserved domains or motifs within larger sequences. |\n",
    "\n",
    "\n",
    " [EMBOSS Needle](https://www.ebi.ac.uk/Tools/psa/emboss_needle/), [BLAST](https://blast.ncbi.nlm.nih.gov/Blast.cgi), [Smith-Waterman Algorithm](https://en.wikipedia.org/wiki/Smith%E2%80%93Waterman_algorithm) |                                                            |\n"
   ]
  },
  {
   "cell_type": "code",
   "execution_count": null,
   "metadata": {},
   "outputs": [],
   "source": [
    "# BLAST (Basic Local Alignment Search Tool)"
   ]
  },
  {
   "cell_type": "code",
   "execution_count": null,
   "metadata": {},
   "outputs": [],
   "source": [
    "# Global Sequence Alignment\n",
    "# Definition:\n",
    "# Global sequence alignment is a method used to align the entire sequence from end to end.\n",
    "# It aims to find the best alignment that maximizes the similarity between two sequences.\n",
    "# In a global alignment, we consider the entire length of both the query sequence and the target sequence.\n",
    "# Characteristics:\n",
    "# Contains all letters from both query and target sequences.\n",
    "# Suitable for sequences with similar length and content.\n",
    "# Used for aligning two closely related sequences.\n",
    "# Applications:\n",
    "# Comparing homologous genes or proteins with similar functions.\n",
    "# Identifying conserved regions across species.\n",
    "# Technique Example:\n",
    "# The Needleman–Wunsch algorithm is a classic dynamic programming approach for global sequence alignment.\n",
    "# Tools Examples:\n",
    "# EMBOSS Needle: A widely used tool for global pairwise sequence alignment.\n",
    "# Needleman-Wunsch Global Align Nucleotide Sequences (Specialized BLAST): Part of the BLAST suite for nucleotide sequence alignment.\n",
    "# Local Sequence Alignment\n",
    "# Definition:\n",
    "# Local sequence alignment focuses on finding local regions with the highest level of similarity between two sequences.\n",
    "# It aligns a substring of the query sequence to a substring of the target sequence.\n",
    "# Suitable for more divergent sequences or distantly related sequences.\n",
    "# Characteristics:\n",
    "# Aligns a substring of the query sequence to a substring of the target sequence.\n",
    "# Useful for identifying conserved domains or motifs within larger sequences.\n",
    "# Applications:\n",
    "# Finding conserved patterns in DNA sequences.\n",
    "# Identifying functional domains in proteins.\n",
    "# Technique Example:\n",
    "# The Smith-Waterman algorithm is commonly used for local sequence alignment.\n",
    "# Tools Examples:\n",
    "# BLAST: A versatile tool for both global and local sequence alignment.\n",
    "# EMBOSS Water: Another popular tool for local pairwise sequence alignment.\n",
    "# LALIGN: A specialized tool for local protein sequence alignment.\n",
    "# For further exploration, you can refer to the following resources:\n",
    "\n",
    "# EMBOSS Needle\n",
    "# BLAST\n",
    "# Smith-Waterman Algorithm"
   ]
  },
  {
   "cell_type": "markdown",
   "metadata": {},
   "source": [
    "- Protein alignment is often more informative than DNA alignment\n",
    "\n",
    "- Wobbly third nucleotide in DNA does not change the amino acid\n",
    "This point refers to the redundancy in the genetic code. The third nucleotide in a DNA triplet (codon) can sometimes vary without changing the corresponding amino acid in the protein sequence. This redundancy contributes to the stability of genetic information.\n",
    "\n",
    "- Improve search sensitivity with DNA sequences - use translated-DNA:protein\n",
    "alignments, such as those produced by BLASTX and FASTX, rather than\n",
    "DNA:DNA alignments.\n",
    "\n",
    "Evolutionary look-back time: DNA:DNA alignments have 5–10-fold shorter\n",
    "look-back time than protein:protein or translated DNA:protein alignments."
   ]
  },
  {
   "cell_type": "markdown",
   "metadata": {},
   "source": [
    "Evolutionary look-back time: DNA:DNA alignments have 5–10-fold shorter look-back time than protein:protein or translated DNA:protein alignments:\n",
    "\n",
    "This statement implies that when examining evolutionary relationships, DNA:DNA alignments provide a shorter historical perspective compared to protein:protein or translated DNA:protein alignments. Proteins tend to accumulate changes more slowly over time, allowing for a more extended look-back period.\n",
    "DNA:DNA alignments rarely detect homology after more than 200–400 million years of divergence; protein:protein alignments routinely detect homology in sequences that last shared a common ancestor more than 2.5 billion years ago (e.g. humans to bacteria):\n",
    "\n",
    "This suggests that DNA sequence alignments may not reliably detect similarities beyond a certain evolutionary timeframe (200–400 million years). In contrast, protein sequence alignments can reveal homology even in sequences that diverged more than 2.5 billion years ago, highlighting the greater sensitivity of protein alignments in evolutionary studies.\n",
    "Moreover, DNA:DNA alignment statistics are less accurate than protein:protein statistics; while protein:protein alignments with expectation values < 0.001 can reliably be used to infer homology, DNA:DNA expectation values < 10−6 often occur by chance, and 10−10 is a more widely accepted threshold for homology based on DNA:DNA searches:\n",
    "\n",
    "This emphasizes that statistical measures derived from DNA:DNA alignments may be less accurate than those from protein:protein alignments. For reliable homology inference, a stricter threshold (10^-10) is recommended for DNA:DNA searches compared to protein:protein alignments with an expectation value < 0.001.\n",
    "Orthologs:\n",
    "\n",
    "Orthologs are homologous sequences found in different species. They originate from a common ancestral gene during speciation (the process by which new species arise). Orthologs typically retain similar functions and properties, despite potential differences in sequence.\n",
    "Homologous sequences that arose by gene duplication:\n",
    "\n",
    "These are paralogs, homologous sequences that arise from gene duplication events. An example is given with human alpha and beta globins, which have distinct functions and properties despite their shared ancestral origin.\n",
    "Regional distribution in the body, developmental timing of gene expression, and abundance:\n",
    "\n",
    "When discussing homologs, the text highlights factors such as regional distribution in the body, developmental timing of gene expression, and abundance. These factors can contribute to the functional diversity observed in homologous sequences."
   ]
  },
  {
   "cell_type": "markdown",
   "metadata": {},
   "source": [
    "**Orthologs:**\n",
    "- Homologous genes found in different species.\n",
    "- Originate from a common ancestral gene through speciation.\n",
    "- Typically retain similar functions and properties despite evolutionary changes.\n",
    "\n",
    "- Orthologs are homologous genes in different species that share a common ancestral gene and are separated by a speciation event.\n",
    "\n",
    "**Paralogs:**\n",
    "- Homologous genes within the same species.\n",
    "- Originate from gene duplication events.\n",
    "- have distinct functions & properties.\n",
    "- eg: Human alpha and beta globins\n",
    "\n",
    "- Paralogs are homologous genes within the same species that originated from gene duplication events and have evolved to perform different functions."
   ]
  }
 ],
 "metadata": {
  "language_info": {
   "name": "python"
  }
 },
 "nbformat": 4,
 "nbformat_minor": 2
}
