{
 "cells": [
  {
   "cell_type": "code",
   "execution_count": 2,
   "metadata": {},
   "outputs": [],
   "source": [
    "# 1. Download the genome sequence of Baker’s Yeast (Saccharomyces cerevisiae)\n",
    "# Set up an email address for NCBI access.\n",
    "# Use the Biopython library to search for the genome sequence of Saccharomyces cerevisiae in the NCBI nucleotide database.\n",
    "# Download the genome record and save it to a GenBank file-yeast_genome.gb"
   ]
  },
  {
   "cell_type": "code",
   "execution_count": 3,
   "metadata": {},
   "outputs": [
    {
     "name": "stdout",
     "output_type": "stream",
     "text": [
      "Genome sequence downloaded and saved to yeast_genome.gb\n"
     ]
    }
   ],
   "source": [
    "from Bio import Entrez, SeqIO\n",
    "\n",
    "def download_genome_sequence(species, output_file):\n",
    "    Entrez.email = \"sargun22450@iiitd.ac.in\" \n",
    "    \n",
    "    # Search for the genome using the species name\n",
    "    search_handle = Entrez.esearch(db=\"nucleotide\", term=species, idtype=\"acc\")\n",
    "    record = Entrez.read(search_handle)\n",
    "    search_handle.close()\n",
    "\n",
    "    # Fetch the genome record\n",
    "    if record['IdList']:\n",
    "        genome_id = record['IdList'][0]\n",
    "        genbank_handle = Entrez.efetch(db=\"nucleotide\", id=genome_id, rettype=\"gb\", retmode=\"text\")\n",
    "        \n",
    "        # Save the genome sequence to a file\n",
    "        with open(output_file, \"w\") as f:\n",
    "            f.write(genbank_handle.read())\n",
    "        genbank_handle.close()\n",
    "        print(f\"Genome sequence downloaded and saved to {output_file}\")\n",
    "    else:\n",
    "        print(f\"No genome sequence found for {species}\")\n",
    "\n",
    "# Example usage\n",
    "download_genome_sequence(\"Saccharomyces cerevisiae\", \"yeast_genome.gb\")\n"
   ]
  },
  {
   "cell_type": "code",
   "execution_count": null,
   "metadata": {},
   "outputs": [],
   "source": [
    "# 2. Find the Origin of Replication in the Yeast Genome\n",
    " \n",
    "# a. Read the yeast genome sequence from the downloaded GenBank file.\n",
    "# b. Define an Autonomously Replicating Sequence (ARS) consensus sequence.\n",
    "# c. Use a custom nucleotide search function to find the positions of the ARS consensus sequence in the genome.\n",
    "# d. Check for the presence of additional features associated with ARS near the identified positions.\n",
    "# e. Output the positions of the ARS consensus sequence and any additional features found.\n",
    "\n",
    "# Read the Genome Sequence:\n",
    "# Read the yeast genome sequence from a GenBank file.\n",
    "\n",
    "# Define ARS Consensus Sequence:\n",
    "# Define an ARS consensus sequence. This is a short DNA sequence that is commonly found in ARS.\n",
    "\n",
    "# Define Additional Features:\n",
    "# Define additional features or motifs associated with ARS. These could be specific sequences or motifs known to be present near ARS.\n",
    "\n",
    "# Search for ARS Consensus Sequence:\n",
    "# Use a custom nucleotide search function (nt_search) to find the positions of the ARS consensus sequence in the yeast genome.\n",
    "\n",
    "# Check for Additional Features:\n",
    "# Check for the presence of additional features near the identified positions of the ARS consensus sequence. This step ensures\n",
    "#  that the identified region has characteristics commonly associated with ARS.\n",
    "\n",
    "# Output Results:\n",
    "# Print the positions of the ARS consensus sequence and any additional features found. If no ARS consensus sequence is found,\n",
    "#  print a message indicating that.\n",
    " \n",
    "# This logic combines the search for the ARS consensus sequence with the verification of additional features to\n",
    "#     increase the likelihood of identifying an Autonomously Replicating Sequence in the yeast genome."
   ]
  },
  {
   "cell_type": "code",
   "execution_count": 5,
   "metadata": {},
   "outputs": [
    {
     "name": "stdout",
     "output_type": "stream",
     "text": [
      "ARS consensus sequence (WTTTAYRTTTW) found at positions: [56946, 65503, 68265]\n",
      "Additional feature (TTTTT) found near the ARS consensus sequence.\n"
     ]
    }
   ],
   "source": [
    "from Bio import SeqIO\n",
    "from Bio.SeqUtils import nt_search\n",
    "def find_ars(genome_file):\n",
    "    # Read the genome sequence from the GenBank file\n",
    "    with open(genome_file, \"r\") as f:\n",
    "        record = SeqIO.read(f, \"genbank\")\n",
    "\n",
    "    # Extract the DNA sequence and convert it to a string\n",
    "    dna_sequence = str(record.seq)\n",
    "\n",
    "    # ARS consensus sequence in S. cerevisiae\n",
    "    ars_consensus = \"WTTTAYRTTTW\"\n",
    "\n",
    "    # Additional features associated with ARS\n",
    "    additional_features = [\"AATAAA\", \"TTTTT\", \"GCGC\"]\n",
    "\n",
    "    # Search for the ARS consensus sequence in the DNA sequence\n",
    "    ars_matches = nt_search(dna_sequence, ars_consensus)\n",
    "\n",
    "    # Check if any matches were found for the ARS consensus sequence\n",
    "    if ars_matches:\n",
    "        # Extract positions from the list (excluding the ARS consensus sequence itself)\n",
    "        positions = [pos for pos in ars_matches if isinstance(pos, int)]\n",
    "\n",
    "        # Print the ARS consensus sequence and its positions\n",
    "        print(f\"ARS consensus sequence ({ars_consensus}) found at positions: {positions}\")\n",
    "\n",
    "        # Check if additional features are present near the ARS consensus sequence\n",
    "        for feature in additional_features:\n",
    "            feature_matches = nt_search(dna_sequence, feature)\n",
    "            if any(isinstance(pos, int) and pos in range(positions[0] - 20, positions[0] + 20) for pos in feature_matches):\n",
    "                print(f\"Additional feature ({feature}) found near the ARS consensus sequence.\")\n",
    "\n",
    "    else:\n",
    "        # Print a message if no ARS consensus sequence was found in the given sequence\n",
    "        print(\"No ARS consensus sequence found in the given sequence.\")\n",
    "\n",
    "# Example usage\n",
    "find_ars(\"yeast_genome.gb\")\n"
   ]
  }
 ],
 "metadata": {
  "kernelspec": {
   "display_name": "base",
   "language": "python",
   "name": "python3"
  },
  "language_info": {
   "codemirror_mode": {
    "name": "ipython",
    "version": 3
   },
   "file_extension": ".py",
   "mimetype": "text/x-python",
   "name": "python",
   "nbconvert_exporter": "python",
   "pygments_lexer": "ipython3",
   "version": "3.11.5"
  }
 },
 "nbformat": 4,
 "nbformat_minor": 2
}
