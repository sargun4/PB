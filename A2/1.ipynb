{
 "cells": [
  {
   "cell_type": "code",
   "execution_count": null,
   "metadata": {},
   "outputs": [],
   "source": [
    "import requests\n",
    "\n",
    "def predict_provean_effect(protein_sequence, variant):\n",
    "    url = \"http://provean.jcvi.org/genome_submit_2.php\"\n",
    "    params = {\n",
    "        'SEQUENCE': protein_sequence,\n",
    "        'VARIANT': variant\n",
    "    }\n",
    "    response = requests.post(url, data=params)\n",
    "    if response.ok:\n",
    "        # Parse the response to extract the prediction\n",
    "        prediction = response.text.strip()\n",
    "        return prediction\n",
    "    else:\n",
    "        print(f\"Error predicting PROVEAN effect: {response.status_code} - {response.reason}\")\n",
    "        return None\n",
    "\n",
    "# Example usage\n",
    "protein_sequence = \"MVHLTPEEKSAVTALWGKVNVDEVGGEALGRLLVVYPWTQRFFESFGDLSTPDAVMGNPKVKAHGKKVLGAFSDGLAHLDNLKGTFATLSELHCDKLHVDPENFRLLGNVLVCVLAHHFGKEFTPPVQAAYQKVVAGVANALAHKYH\"\n",
    "variant = \"D94N\"  # Example SNP variant\n",
    "provean_prediction = predict_provean_effect(protein_sequence, variant)\n",
    "print(\"PROVEAN Prediction:\", provean_prediction)\n"
   ]
  }
 ],
 "metadata": {
  "language_info": {
   "name": "python"
  }
 },
 "nbformat": 4,
 "nbformat_minor": 2
}
