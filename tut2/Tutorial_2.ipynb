{
  "cells": [
    {
      "cell_type": "markdown",
      "metadata": {
        "id": "fMupGtGY64sG"
      },
      "source": [
        "# *Parsing of FASTA Sequences*"
      ]
    },
    {
      "cell_type": "code",
      "execution_count": 18,
      "metadata": {
        "id": "NHAmNfiKbHda"
      },
      "outputs": [],
      "source": [
        "from Bio import Entrez, SeqIO\n",
        "\n",
        "def download_fasta_sequence(email, accession_number, output_file):\n",
        "    Entrez.email = email\n",
        "    handle = Entrez.efetch(db=\"nucleotide\", id=accession_number, rettype=\"fasta\", retmode=\"text\")\n",
        "    sequence = handle.read()\n",
        "    \n",
        "    with open(output_file, \"w\") as f:\n",
        "        f.write(sequence)\n",
        "\n",
        "# Replace with your email, accession number, and output file name\n",
        "email = \"pallawik@iiitd.ac.in\"\n",
        "accession_number = \"NC_001474.2\"  # Replace with your accession number\n",
        "output_file = \"output2.fasta\"  # Replace with your desired output file name\n",
        "\n",
        "download_fasta_sequence(email, accession_number, output_file)"
      ]
    },
    {
      "cell_type": "code",
      "execution_count": 19,
      "metadata": {
        "id": "i91sv-qDbCvy"
      },
      "outputs": [
        {
          "name": "stdout",
          "output_type": "stream",
          "text": [
            "NC_001474.2\n",
            "Seq('AGTTGTTAGTCTACGTGGACCGACAAAGACAGATTCTTTGAGGGAGCTAAGCTC...TCT')\n",
            "10723\n"
          ]
        }
      ],
      "source": [
        "#cat output.fasta\n",
        "#https://www.ncbi.nlm.nih.gov/datasets/genome/GCF_000871845.1/\n",
        "from Bio import SeqIO\n",
        "for seq_record in list(SeqIO.parse(\"output2.fasta\", \"fasta\"))[:5]:\n",
        "    print(seq_record.id)\n",
        "    print(repr(seq_record.seq))\n",
        "    print(len(seq_record))"
      ]
    },
    {
      "cell_type": "code",
      "execution_count": 20,
      "metadata": {
        "id": "TZN-q9kG-w1B"
      },
      "outputs": [
        {
          "name": "stdout",
          "output_type": "stream",
          "text": [
            "ATCGGCTA\n"
          ]
        }
      ],
      "source": [
        "from Bio.Seq import Seq\n",
        "\n",
        "# Creating a DNA sequence\n",
        "dna_sequence = Seq(\"ATCGGCTA\")\n",
        "print(dna_sequence)"
      ]
    },
    {
      "cell_type": "code",
      "execution_count": 21,
      "metadata": {
        "id": "11_Z759u_4GL"
      },
      "outputs": [
        {
          "name": "stdout",
          "output_type": "stream",
          "text": [
            "0 A\n",
            "1 T\n",
            "2 C\n",
            "3 G\n",
            "4 G\n",
            "5 C\n",
            "6 T\n",
            "7 A\n",
            "len = 8\n"
          ]
        }
      ],
      "source": [
        "for index, letter in enumerate(dna_sequence):\n",
        "    print(\"%i %s\" % (index, letter))\n",
        "length = len(dna_sequence)\n",
        "print(\"len =\",length)"
      ]
    },
    {
      "cell_type": "code",
      "execution_count": 22,
      "metadata": {
        "id": "Yu3GFXLkU0pP"
      },
      "outputs": [
        {
          "name": "stdout",
          "output_type": "stream",
          "text": [
            "A\n",
            "T\n",
            "C\n"
          ]
        }
      ],
      "source": [
        "print(dna_sequence[0])  # first letter\n",
        "print(dna_sequence[1])  # second letter\n",
        "print(dna_sequence[2])  # third letter"
      ]
    },
    {
      "cell_type": "code",
      "execution_count": 23,
      "metadata": {
        "id": "kdq8trSeVHo_"
      },
      "outputs": [
        {
          "name": "stdout",
          "output_type": "stream",
          "text": [
            "Count of A: 2\n",
            "2\n",
            "2\n"
          ]
        }
      ],
      "source": [
        "# Count occurrences of a specific base\n",
        "count_A = dna_sequence.count('A')\n",
        "print(\"Count of A:\", count_A)\n",
        "gcount = dna_sequence.count(\"G\")\n",
        "ccount = dna_sequence.count(\"C\")\n",
        "print(gcount)\n",
        "print(ccount)"
      ]
    },
    {
      "cell_type": "code",
      "execution_count": 24,
      "metadata": {
        "id": "6wOtugtcUOoo"
      },
      "outputs": [
        {
          "name": "stdout",
          "output_type": "stream",
          "text": [
            "ATCGGCTA\n",
            "Subsequence: TCGG\n"
          ]
        }
      ],
      "source": [
        "# Slicing\n",
        "print(dna_sequence)\n",
        "subsequence = dna_sequence[1:5]\n",
        "print(\"Subsequence:\", subsequence)"
      ]
    },
    {
      "cell_type": "code",
      "execution_count": 25,
      "metadata": {
        "id": "2zTbLJ4uAHUa"
      },
      "outputs": [
        {
          "name": "stdout",
          "output_type": "stream",
          "text": [
            "ATCGGCTA\n",
            "Concatenated sequence: ATCGGCTAAT\n",
            "First base: A\n"
          ]
        }
      ],
      "source": [
        "# Concatenation\n",
        "print(dna_sequence)\n",
        "\n",
        "concatenated_sequence = dna_sequence + \"AT\"\n",
        "print(\"Concatenated sequence:\", concatenated_sequence)\n",
        "# Indexing\n",
        "first_base = dna_sequence[0]\n",
        "print(\"First base:\", first_base)"
      ]
    },
    {
      "cell_type": "code",
      "execution_count": 26,
      "metadata": {
        "id": "9xysIwF7Ag0_"
      },
      "outputs": [
        {
          "name": "stdout",
          "output_type": "stream",
          "text": [
            "original sequence:  ATCGGCTA\n",
            "Reverse complement: TAGCCGAT\n"
          ]
        }
      ],
      "source": [
        "# Reverse complement\n",
        "print(\"original sequence: \", dna_sequence)\n",
        "\n",
        "reverse_complement = dna_sequence.reverse_complement()\n",
        "print(\"Reverse complement:\", reverse_complement)"
      ]
    },
    {
      "cell_type": "code",
      "execution_count": 27,
      "metadata": {
        "id": "8VwLNpqjAr3e"
      },
      "outputs": [
        {
          "name": "stdout",
          "output_type": "stream",
          "text": [
            "ACGTTT\n"
          ]
        }
      ],
      "source": [
        "#Replace ambiguous bases\n",
        "my_dna = Seq(\"ACGTnnTT\")\n",
        "print(my_dna.replace(\"nn\", \"\"))"
      ]
    },
    {
      "cell_type": "code",
      "execution_count": 28,
      "metadata": {
        "id": "Po1DoTKfAyRL"
      },
      "outputs": [
        {
          "name": "stdout",
          "output_type": "stream",
          "text": [
            "DNA Sequence: ATCAACTTTTAA\n",
            "RNA Sequence: AUCAACUUUUAA\n",
            "Protein Sequence: INF*\n"
          ]
        }
      ],
      "source": [
        "#https://www.cup.uni-muenchen.de/ch/compchem/tink/as.html\n",
        "from Bio.Seq import Seq\n",
        "\n",
        "# Creating a DNA sequence\n",
        "dna_sequence = Seq(\"ATCAACTTTTAA\")\n",
        "# Transcribing DNA to RNA\n",
        "rna_sequence = dna_sequence.transcribe()\n",
        "\n",
        "# Translation of RNA to protein\n",
        "protein_sequence = rna_sequence.translate()\n",
        "\n",
        "print(f\"DNA Sequence: {dna_sequence}\")\n",
        "print(f\"RNA Sequence: {rna_sequence}\")\n",
        "print(f\"Protein Sequence: {protein_sequence}\")"
      ]
    }
  ],
  "metadata": {
    "colab": {
      "provenance": []
    },
    "kernelspec": {
      "display_name": "Python 3",
      "name": "python3"
    },
    "language_info": {
      "codemirror_mode": {
        "name": "ipython",
        "version": 3
      },
      "file_extension": ".py",
      "mimetype": "text/x-python",
      "name": "python",
      "nbconvert_exporter": "python",
      "pygments_lexer": "ipython3",
      "version": "0.0.0"
    }
  },
  "nbformat": 4,
  "nbformat_minor": 0
}
