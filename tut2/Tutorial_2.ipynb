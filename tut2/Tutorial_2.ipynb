{
  "cells": [
    {
      "cell_type": "markdown",
      "metadata": {
        "id": "fMupGtGY64sG"
      },
      "source": [
        "# *Parsing of FASTA Sequences*"
      ]
    },
    {
      "cell_type": "code",
      "execution_count": null,
      "metadata": {
        "id": "XzkMbQhP6uyY"
      },
      "outputs": [],
      "source": [
        "# pip install biopython\n"
      ]
    },
    {
      "cell_type": "code",
      "execution_count": null,
      "metadata": {
        "id": "NHAmNfiKbHda"
      },
      "outputs": [],
      "source": [
        "from Bio import Entrez, SeqIO\n",
        "\n",
        "def download_fasta_sequence(email, accession_number, output_file):\n",
        "    Entrez.email = email\n",
        "    handle = Entrez.efetch(db=\"nucleotide\", id=accession_number, rettype=\"fasta\", retmode=\"text\")\n",
        "    sequence = handle.read()\n",
        "    with open(output_file, \"w\") as f:\n",
        "        f.write(sequence)\n",
        "\n",
        "# Replace with your email, accession number, and output file name\n",
        "email = \"pallawik@iiitd.ac.in\"\n",
        "accession_number = \"NC_001474.2\"  # Replace with your accession number\n",
        "output_file = \"output2.fasta\"  # Replace with your desired output file name\n",
        "\n",
        "download_fasta_sequence(email, accession_number, output_file)"
      ]
    },
    {
      "cell_type": "code",
      "execution_count": null,
      "metadata": {
        "id": "i91sv-qDbCvy"
      },
      "outputs": [],
      "source": [
        "#cat output.fasta\n",
        "#https://www.ncbi.nlm.nih.gov/datasets/genome/GCF_000871845.1/\n",
        "from Bio import SeqIO\n",
        "for seq_record in list(SeqIO.parse(\"output2.fasta\", \"fasta\"))[:5]:\n",
        "    print(seq_record.id)\n",
        "    print(repr(seq_record.seq))\n",
        "    print(len(seq_record))"
      ]
    },
    {
      "cell_type": "code",
      "execution_count": null,
      "metadata": {
        "id": "TZN-q9kG-w1B"
      },
      "outputs": [],
      "source": [
        "from Bio.Seq import Seq\n",
        "\n",
        "# Creating a DNA sequence\n",
        "dna_sequence = Seq(\"ATCGGCTA\")\n",
        "print(dna_sequence)"
      ]
    },
    {
      "cell_type": "code",
      "execution_count": null,
      "metadata": {
        "id": "11_Z759u_4GL"
      },
      "outputs": [],
      "source": [
        "for index, letter in enumerate(dna_sequence):\n",
        "    print(\"%i %s\" % (index, letter))\n",
        "length = len(dna_sequence)\n",
        "print(length)"
      ]
    },
    {
      "cell_type": "code",
      "execution_count": null,
      "metadata": {
        "id": "Yu3GFXLkU0pP"
      },
      "outputs": [],
      "source": [
        "print(dna_sequence[0])  # first letter\n",
        "print(dna_sequence[1])  # second letter\n",
        "print(dna_sequence[2])  # third letter"
      ]
    },
    {
      "cell_type": "code",
      "execution_count": null,
      "metadata": {
        "id": "kdq8trSeVHo_"
      },
      "outputs": [],
      "source": [
        "# Count occurrences of a specific base\n",
        "count_A = dna_sequence.count('A')\n",
        "print(\"Count of A:\", count_A)"
      ]
    },
    {
      "cell_type": "code",
      "execution_count": null,
      "metadata": {
        "id": "vqSH2nmNVQgl"
      },
      "outputs": [],
      "source": [
        "print(\"Length of the sequence: \", len(dna_sequence))"
      ]
    },
    {
      "cell_type": "code",
      "execution_count": null,
      "metadata": {
        "id": "gLKNlyynVXu2"
      },
      "outputs": [],
      "source": [
        "gcount = dna_sequence.count(\"G\")\n",
        "ccount = dna_sequence.count(\"C\")\n",
        "print(gcount)\n",
        "print(ccount)"
      ]
    },
    {
      "cell_type": "code",
      "execution_count": null,
      "metadata": {
        "id": "2IymTPsQVojC"
      },
      "outputs": [],
      "source": [
        "100*(gcount + ccount) / len(dna_sequence)"
      ]
    },
    {
      "cell_type": "code",
      "execution_count": null,
      "metadata": {
        "id": "6wOtugtcUOoo"
      },
      "outputs": [],
      "source": [
        "# Slicing\n",
        "print(dna_sequence)\n",
        "subsequence = dna_sequence[1:5]\n",
        "print(\"Subsequence:\", subsequence)"
      ]
    },
    {
      "cell_type": "code",
      "execution_count": null,
      "metadata": {
        "id": "2zTbLJ4uAHUa"
      },
      "outputs": [],
      "source": [
        "# Concatenation\n",
        "print(dna_sequence)\n",
        "\n",
        "concatenated_sequence = dna_sequence + \"AT\"\n",
        "print(\"Concatenated sequence:\", concatenated_sequence)"
      ]
    },
    {
      "cell_type": "code",
      "execution_count": null,
      "metadata": {
        "id": "iFZvUHd_AVQ3"
      },
      "outputs": [],
      "source": [
        "# Indexing\n",
        "first_base = dna_sequence[0]\n",
        "print(\"First base:\", first_base)"
      ]
    },
    {
      "cell_type": "code",
      "execution_count": null,
      "metadata": {
        "id": "9xysIwF7Ag0_"
      },
      "outputs": [],
      "source": [
        "# Reverse complement\n",
        "print(\"original sequence: \", dna_sequence)\n",
        "\n",
        "reverse_complement = dna_sequence.reverse_complement()\n",
        "print(\"Reverse complement:\", reverse_complement)"
      ]
    },
    {
      "cell_type": "code",
      "execution_count": null,
      "metadata": {
        "id": "l7tb_s-OYk66"
      },
      "outputs": [],
      "source": [
        "#https://www.cup.uni-muenchen.de/ch/compchem/tink/as.html\n",
        "dna_sequence = Seq(\"ATCAACTTTTAA\")\n",
        "\n",
        "print(\"original dna sequence: \", dna_sequence)\n",
        "# Transcribing DNA to RNA\n",
        "rna_sequence = dna_sequence.transcribe()\n",
        "\n",
        "# Translation of RNA to protein\n",
        "protein_sequence = rna_sequence.translate()\n",
        "\n",
        "print(f\"DNA Sequence: {dna_sequence}\")\n",
        "print(f\"RNA Sequence: {rna_sequence}\")\n",
        "print(f\"Protein Sequence: {protein_sequence}\")"
      ]
    },
    {
      "cell_type": "code",
      "execution_count": null,
      "metadata": {
        "id": "8VwLNpqjAr3e"
      },
      "outputs": [],
      "source": [
        "#Replace ambiguous bases\n",
        "my_dna = Seq(\"ACGTnnTT\")\n",
        "print(my_dna.replace(\"nn\", \"\"))"
      ]
    },
    {
      "cell_type": "code",
      "execution_count": 1,
      "metadata": {
        "id": "Po1DoTKfAyRL"
      },
      "outputs": [
        {
          "name": "stdout",
          "output_type": "stream",
          "text": [
            "DNA Sequence: ATCAACTTTTAA\n",
            "RNA Sequence: AUCAACUUUUAA\n",
            "Protein Sequence: INF*\n"
          ]
        }
      ],
      "source": [
        "#https://www.cup.uni-muenchen.de/ch/compchem/tink/as.html\n",
        "from Bio.Seq import Seq\n",
        "\n",
        "# Creating a DNA sequence\n",
        "dna_sequence = Seq(\"ATCAACTTTTAA\")\n",
        "# Transcribing DNA to RNA\n",
        "rna_sequence = dna_sequence.transcribe()\n",
        "\n",
        "# Translation of RNA to protein\n",
        "protein_sequence = rna_sequence.translate()\n",
        "\n",
        "print(f\"DNA Sequence: {dna_sequence}\")\n",
        "print(f\"RNA Sequence: {rna_sequence}\")\n",
        "print(f\"Protein Sequence: {protein_sequence}\")"
      ]
    }
  ],
  "metadata": {
    "colab": {
      "provenance": []
    },
    "kernelspec": {
      "display_name": "Python 3",
      "name": "python3"
    },
    "language_info": {
      "codemirror_mode": {
        "name": "ipython",
        "version": 3
      },
      "file_extension": ".py",
      "mimetype": "text/x-python",
      "name": "python",
      "nbconvert_exporter": "python",
      "pygments_lexer": "ipython3",
      "version": "3.11.5"
    }
  },
  "nbformat": 4,
  "nbformat_minor": 0
}
