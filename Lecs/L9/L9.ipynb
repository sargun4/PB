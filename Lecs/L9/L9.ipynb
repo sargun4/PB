{
 "cells": [
  {
   "cell_type": "code",
   "execution_count": 1,
   "metadata": {},
   "outputs": [
    {
     "ename": "ModuleNotFoundError",
     "evalue": "No module named 'Bio.SubsMat'",
     "output_type": "error",
     "traceback": [
      "\u001b[1;31m---------------------------------------------------------------------------\u001b[0m",
      "\u001b[1;31mModuleNotFoundError\u001b[0m                       Traceback (most recent call last)",
      "Cell \u001b[1;32mIn[1], line 2\u001b[0m\n\u001b[0;32m      1\u001b[0m \u001b[38;5;28;01mimport\u001b[39;00m \u001b[38;5;21;01mnumpy\u001b[39;00m \u001b[38;5;28;01mas\u001b[39;00m \u001b[38;5;21;01mnp\u001b[39;00m\n\u001b[1;32m----> 2\u001b[0m \u001b[38;5;28;01mfrom\u001b[39;00m \u001b[38;5;21;01mBio\u001b[39;00m\u001b[38;5;21;01m.\u001b[39;00m\u001b[38;5;21;01mSubsMat\u001b[39;00m \u001b[38;5;28;01mimport\u001b[39;00m MatrixInfo\n\u001b[0;32m      4\u001b[0m \u001b[38;5;66;03m# Access the PAM100 matrix from Biopython\u001b[39;00m\n\u001b[0;32m      5\u001b[0m pam100 \u001b[38;5;241m=\u001b[39m MatrixInfo\u001b[38;5;241m.\u001b[39mpam100\n",
      "\u001b[1;31mModuleNotFoundError\u001b[0m: No module named 'Bio.SubsMat'"
     ]
    }
   ],
   "source": [
    "import numpy as np\n",
    "\n",
    "from Bio.SubsMat import MatrixInfo\n",
    "\n",
    "# Access the PAM100 matrix from Biopython\n",
    "pam100 = MatrixInfo.pam100\n",
    "\n",
    "# Print the PAM100 matrix\n",
    "print(pam100)\n"
   ]
  },
  {
   "cell_type": "code",
   "execution_count": null,
   "metadata": {},
   "outputs": [],
   "source": [
    "from Bio import pairwise2\n",
    "from Bio.SubsMat import MatrixInfo\n",
    "\n",
    "# Replace seq1 and seq2 with your actual sequences\n",
    "seq1 = \"ACGT\"\n",
    "seq2 = \"AGT\"\n",
    "\n",
    "# Load the PAM100 substitution matrix from Biopython\n",
    "pam100 = MatrixInfo.pam100\n",
    "\n",
    "# Perform pairwise alignment\n",
    "alignments = pairwise2.align.globalds(seq1, seq2, pam100, -10, -1)\n",
    "\n",
    "# Print the alignment\n",
    "for alignment in alignments:\n",
    "    print(alignment)\n"
   ]
  }
 ],
 "metadata": {
  "kernelspec": {
   "display_name": "base",
   "language": "python",
   "name": "python3"
  },
  "language_info": {
   "codemirror_mode": {
    "name": "ipython",
    "version": 3
   },
   "file_extension": ".py",
   "mimetype": "text/x-python",
   "name": "python",
   "nbconvert_exporter": "python",
   "pygments_lexer": "ipython3",
   "version": "3.11.5"
  }
 },
 "nbformat": 4,
 "nbformat_minor": 2
}
