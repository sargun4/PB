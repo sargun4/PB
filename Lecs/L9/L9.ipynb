{
 "cells": [
  {
   "cell_type": "code",
   "execution_count": 6,
   "metadata": {},
   "outputs": [
    {
     "name": "stdout",
     "output_type": "stream",
     "text": [
      "   A  C  G  T\n",
      "A  3  0 -3 -7\n",
      "C  0  9 -1 -3\n",
      "G -3 -1  6  2\n",
      "T -7 -3  2  7\n"
     ]
    }
   ],
   "source": [
    "import pandas as pd\n",
    "from io import StringIO\n",
    "\n",
    "# The PAM100 matrix data\n",
    "pam100_data = \"\"\"\n",
    "  A C G T\n",
    "A 3 0 -3 -7\n",
    "C 0 9 -1 -3\n",
    "G -3 -1 6 2\n",
    "T -7 -3 2 7\n",
    "\"\"\"\n",
    "\n",
    "# Read the PAM100 matrix data into a DataFrame\n",
    "pam100_df = pd.read_csv(StringIO(pam100_data), delim_whitespace=True, index_col=0)\n",
    "\n",
    "# Print the resulting DataFrame\n",
    "print(pam100_df)\n"
   ]
  },
  {
   "cell_type": "code",
   "execution_count": null,
   "metadata": {},
   "outputs": [],
   "source": [
    "from Bio import pairwise2\n",
    "from Bio.SubsMat import MatrixInfo\n",
    "\n",
    "# Replace seq1 and seq2 with your actual sequences\n",
    "seq1 = \"ACGT\"\n",
    "seq2 = \"AGT\"\n",
    "\n",
    "# Load the PAM100 substitution matrix from Biopython\n",
    "pam100 = MatrixInfo.pam100\n",
    "\n",
    "# Perform pairwise alignment\n",
    "alignments = pairwise2.align.globalds(seq1, seq2, pam100, -10, -1)\n",
    "\n",
    "# Print the alignment\n",
    "for alignment in alignments:\n",
    "    print(alignment)\n"
   ]
  }
 ],
 "metadata": {
  "kernelspec": {
   "display_name": "base",
   "language": "python",
   "name": "python3"
  },
  "language_info": {
   "codemirror_mode": {
    "name": "ipython",
    "version": 3
   },
   "file_extension": ".py",
   "mimetype": "text/x-python",
   "name": "python",
   "nbconvert_exporter": "python",
   "pygments_lexer": "ipython3",
   "version": "3.11.5"
  }
 },
 "nbformat": 4,
 "nbformat_minor": 2
}
