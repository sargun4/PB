{
 "cells": [
  {
   "cell_type": "code",
   "execution_count": null,
   "metadata": {},
   "outputs": [],
   "source": [
    "1. # https://en.wikipedia.org/wiki/Needleman%E2%80%93Wunsch_algorithm#:~:text=The%20Needleman%E2%80%93Wunsch%20algorithm%20is%20still%20widely%20used%20for%20optimal,alignments%20having%20the%20highest%20score.\n",
    "2. # https://www.cs.sjsu.edu/~aid/cs152/NeedlemanWunsch.pdf\n",
    "3. "
   ]
  },
  {
   "cell_type": "markdown",
   "metadata": {},
   "source": [
    "1. Global vs. Local Alignment:\n",
    "Needleman-Wunsch: This algorithm is used for global sequence alignment. It aims to find the best alignment of the entire length of two sequences.\n",
    "Smith-Waterman: It is designed for local sequence alignment, focusing on identifying the best alignment of a substring or subsequence within the two sequences.\n",
    "    \n",
    "2. Scoring System:\n",
    "Needleman-Wunsch: Typically uses a substitution matrix for scoring, which assigns scores to matches, mismatches, and gaps.\n",
    "Smith-Waterman: Also employs a scoring system, but it is often more flexible and can include negative scores for mismatches or gaps.\n",
    "    \n",
    "3. Initiation of Alignment:\n",
    "Needleman-Wunsch: The alignment starts from the beginning (start) of both sequences and proceeds towards the end.\n",
    "Smith-Waterman: The algorithm can start the alignment from any position in the sequences, allowing it to find local similarities even if they are not at the sequence ends.\n",
    "\n",
    "4. Gap Penalties:\n",
    "Needleman-Wunsch: Typically uses constant gap penalties. That is, the penalty for introducing a gap is the same regardless of the length of the gap.\n",
    "Smith-Waterman: Allows for variable gap penalties, where the penalty may depend on the length of the gap.\n",
    "\n",
    "In summary, Needleman-Wunsch is suitable for aligning entire sequences globally, \n",
    "while Smith-Waterman is more focused on local alignments, allowing identification of regions of similarity within sequences. \n",
    "\n",
    "| Feature                         | Needleman-Wunsch                  | Smith-Waterman                   |\n",
    "|---------------------------------|-----------------------------------|----------------------------------|\n",
    "| **Alignment Type**              | Global Alignment                  | Local Alignment                  |\n",
    "| **Computational Complexity**    | O(nm)                             | O(nm)                            |\n",
    "| **Backtracking Starts frm**     | Lower right corner                | Largest value (not necessarily lower right) |\n",
    "| **Global Adjustment**           | Yes                               | No                               |\n",
    "| **Negative Scores**             | Allowed                           | Zeroed out                       |\n",
    "\n"
   ]
  }
 ],
 "metadata": {
  "language_info": {
   "name": "python"
  }
 },
 "nbformat": 4,
 "nbformat_minor": 2
}
