{
 "cells": [
  {
   "cell_type": "code",
   "execution_count": null,
   "metadata": {},
   "outputs": [],
   "source": [
    "# Application of Today's Learning\n",
    "\n",
    "## PAM Matrices in R\n",
    "\n",
    "To apply today's learning, let's use the PAM100 matrix and perform a sequence alignment in R:\n",
    "\n",
    " \n",
    "# Load PAM100 matrix\n",
    "pam100 <- read.table(system.file(\"matrices/pam/pam100\", package = \"seqinr\"), as.is = TRUE)\n",
    "\n",
    "# Print PAM100 matrix\n",
    "print(pam100)\n",
    "\n",
    "# Install and load necessary packages\n",
    "install.packages(\"Biostrings\")\n",
    "library(Biostrings)\n",
    "\n",
    "# Define sequences\n",
    "seq1 <- \"HEAGAWGHEE\"\n",
    "seq2 <- \"PAWHEAE\"\n",
    "\n",
    "# Perform pairwise alignment using BLOSUM62 matrix (default for BLAST)\n",
    "alignment_blosum <- pairwiseAlignment(pattern = seq1, subject = seq2, substitutionMatrix = BLOSUM62)\n",
    "\n",
    "# Print the BLOSUM62 alignment\n",
    "print(alignment_blosum)\n",
    "\n"
   ]
  },
  {
   "cell_type": "markdown",
   "metadata": {},
   "source": [
    "## BLOSUM62 Weighting\n",
    "The BLOSUM62 matrix is designed to handle diverse protein sequences. It weights sequences based on a 62% identity\n",
    "threshold, merging sequences with higher identity into one. This is particularly useful for scoring proteins that\n",
    "share less than 62% identity, as it is more heavily weighted by proteins with less than 62% identity.\n"
   ]
  },
  {
   "cell_type": "markdown",
   "metadata": {},
   "source": [
    "# Summary of Henikoffs’ Paper\n",
    "\n",
    "Henikoffs' paper provided insights into the performance and characteristics of BLOSUM matrices compared to PAM matrices in sequence alignments. Here's a summary:\n",
    "\n",
    "## Key Findings:\n",
    "\n",
    "1. **BLOSUM Outperformed PAM:**\n",
    "   - BLOSUM matrices demonstrated a significant improvement in performance compared to PAM matrices.\n",
    "\n",
    "2. **Usefulness in Identifying Weak Alignments:**\n",
    "   - BLOSUM matrices were particularly effective in identifying weakly scoring alignments.\n",
    "\n",
    "3. **Optimal Performance of BLOSUM62:**\n",
    "   - Among BLOSUM matrices, BLOSUM62 showed slightly better performance than BLOSUM60 or BLOSUM70.\n",
    "\n",
    "4. **Commonly Used Scoring Matrices:**\n",
    "   - BLOSUM50 and BLOSUM90 are also commonly employed scoring matrices in BLAST searches.\n",
    "   - The FASTA family of sequence comparison programs defaults to using BLOSUM50.\n",
    "\n",
    "5. **Evolutionary Models:**\n",
    "   - PAM matrices follow an explicit evolutionary model, counting replacements on the branches of a phylogenetic tree.\n",
    "   - In contrast, BLOSUM matrices do not rely on a phylogenetic tree.\n",
    "\n",
    "6. **Alignment Scope:**\n",
    "   - PAM matrices are global alignment matrices, encompassing both highly conserved and highly mutable regions.\n",
    "   - BLOSUM matrices focus only on highly conserved regions, prohibiting the inclusion of gaps in series of alignments.\n",
    "\n",
    "7. **Relatedness Context:**\n",
    "   - BLOSUM matrices consider relatedness within the specific group of sequences being analyzed.\n",
    "\n",
    "8. **Interpretation of Matrix Numbers:**\n",
    "   - PAM matrices use higher numbers to denote larger evolutionary distances.\n",
    "   - BLOSUM matrices, on the other hand, assign higher numbers to indicate higher sequence similarity and, therefore, smaller evolutionary distances.\n",
    "\n",
    "## Salient Differences between PAM and BLOSUM:\n",
    "- BLOSUM matrices outperform PAM matrices.\n",
    "- BLOSUM62 is particularly effective.\n",
    "- BLOSUM matrices are commonly used in BLAST searches.\n",
    "- PAM matrices follow an explicit evolutionary model with global alignment scope.\n",
    "- BLOSUM matrices focus on highly conserved regions and vary contextually.\n",
    "- The interpretation of matrix numbers differs between PAM and BLOSUM.\n",
    "\n",
    "*Henikoffs' paper sheds light on the nuances and performance disparities between PAM and BLOSUM matrices, aiding researchers in choosing appropriate scoring matrices for their bioinformatics analyses.*\n"
   ]
  }
 ],
 "metadata": {
  "language_info": {
   "name": "python"
  }
 },
 "nbformat": 4,
 "nbformat_minor": 2
}
